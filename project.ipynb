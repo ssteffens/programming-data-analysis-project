{
 "cells": [
  {
   "cell_type": "markdown",
   "id": "38358792-efc1-4013-8efd-96b445f554ae",
   "metadata": {},
   "source": [
    "# Programming for Data Analysis - Project"
   ]
  },
  {
   "cell_type": "markdown",
   "id": "61e6bb02-fccc-4cd5-aa36-62b28895a596",
   "metadata": {},
   "source": [
    "**Instructions:**\n",
    "\n",
    "Create a data set by simulating a real-world phenomenon. \n",
    "- Choose a real-world phenomenon that can be measured and for which yoy could collect at least one-hundred data points across at least four different variables\n",
    "- Investigate the types of variables involved, their likely distributions, and their relationships with each other\n",
    "- Synthesise/simulate a data set as closely matching their properties as possible\n",
    "- Detail your research and implement the simulation in a Jupyter notebook - the data set itself can simply be displayed in an output cell within the notebook\n",
    "\n",
    "\n"
   ]
  },
  {
   "cell_type": "code",
   "execution_count": null,
   "id": "97387141-eb2d-4f12-b5a3-806ef8a9521d",
   "metadata": {},
   "outputs": [],
   "source": []
  },
  {
   "cell_type": "code",
   "execution_count": null,
   "id": "dc38cbd4-1eb6-439f-8642-65fde02dc399",
   "metadata": {},
   "outputs": [],
   "source": []
  },
  {
   "cell_type": "code",
   "execution_count": null,
   "id": "d99f1988-0e85-4837-b756-e3be7acb137b",
   "metadata": {},
   "outputs": [],
   "source": []
  }
 ],
 "metadata": {
  "kernelspec": {
   "display_name": "Python 3",
   "language": "python",
   "name": "python3"
  },
  "language_info": {
   "codemirror_mode": {
    "name": "ipython",
    "version": 3
   },
   "file_extension": ".py",
   "mimetype": "text/x-python",
   "name": "python",
   "nbconvert_exporter": "python",
   "pygments_lexer": "ipython3",
   "version": "3.8.8"
  }
 },
 "nbformat": 4,
 "nbformat_minor": 5
}
