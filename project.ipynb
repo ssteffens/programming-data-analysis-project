{
 "cells": [
  {
   "cell_type": "markdown",
   "id": "38358792-efc1-4013-8efd-96b445f554ae",
   "metadata": {},
   "source": [
    "# Programming for Data Analysis - Project\n",
    "\n",
    "# **Data Set Simulation Based on the Palmer Penguins Data**"
   ]
  },
  {
   "cell_type": "markdown",
   "id": "61e6bb02-fccc-4cd5-aa36-62b28895a596",
   "metadata": {},
   "source": [
    "**Instructions:**\n",
    "\n",
    "Create a data set by simulating a real-world phenomenon. \n",
    "- Choose a real-world phenomenon that can be measured and for which yoy could collect at least one-hundred data points across at least four different variables\n",
    "- Investigate the types of variables involved, their likely distributions, and their relationships with each other\n",
    "- Synthesise/simulate a data set as closely matching their properties as possible\n",
    "- Detail your research and implement the simulation in a Jupyter notebook - the data set itself can simply be displayed in an output cell within the notebook\n",
    "\n",
    "\n"
   ]
  },
  {
   "cell_type": "markdown",
   "id": "736c89d1-1cb7-475a-ab84-87dd67aebfe0",
   "metadata": {},
   "source": [
    "## **Table of Contents**\n",
    "\n",
    "*Placeholder*"
   ]
  },
  {
   "cell_type": "markdown",
   "id": "e9110b61-ec61-4a7b-8c69-025ebe900413",
   "metadata": {},
   "source": [
    "## **1.0 Intro/Overview of Selected Data Set**"
   ]
  },
  {
   "cell_type": "code",
   "execution_count": null,
   "id": "d99f1988-0e85-4837-b756-e3be7acb137b",
   "metadata": {},
   "outputs": [],
   "source": []
  },
  {
   "cell_type": "code",
   "execution_count": null,
   "id": "b5bd3f56-f2e2-407c-a4c7-d3a749ad4db8",
   "metadata": {},
   "outputs": [],
   "source": []
  },
  {
   "cell_type": "code",
   "execution_count": null,
   "id": "384fa9e5-8d25-488b-aedc-f8ddd6c71b81",
   "metadata": {},
   "outputs": [],
   "source": []
  },
  {
   "cell_type": "markdown",
   "id": "0a730eb3-2236-4600-b949-3ea6cf49801b",
   "metadata": {},
   "source": [
    "## **2.0 Accessing the Original Data Set**"
   ]
  },
  {
   "cell_type": "code",
   "execution_count": null,
   "id": "7df34bc4-b0b7-4b3a-b0b2-d957827b0172",
   "metadata": {},
   "outputs": [],
   "source": []
  },
  {
   "cell_type": "code",
   "execution_count": null,
   "id": "2dba67cd-4f3a-48b2-b625-3c4fdf5443b1",
   "metadata": {},
   "outputs": [],
   "source": []
  },
  {
   "cell_type": "code",
   "execution_count": null,
   "id": "5df8b7bd-6f41-4065-8ae8-8fb472fed7ef",
   "metadata": {},
   "outputs": [],
   "source": []
  },
  {
   "cell_type": "markdown",
   "id": "b22c48a8-b2c4-4a30-a008-679b06507bcf",
   "metadata": {},
   "source": [
    "## **3.0 Preparing/Cleansing the Original Data Set**"
   ]
  },
  {
   "cell_type": "code",
   "execution_count": null,
   "id": "9f09cb8a-ff87-40c5-9aa7-0c427c61e1b1",
   "metadata": {},
   "outputs": [],
   "source": []
  },
  {
   "cell_type": "code",
   "execution_count": null,
   "id": "ae91fd9f-f604-44b0-8d5a-cd36130bc33a",
   "metadata": {},
   "outputs": [],
   "source": []
  },
  {
   "cell_type": "code",
   "execution_count": null,
   "id": "ec04b819-5a3b-4183-9f4f-f15ae8412d0a",
   "metadata": {},
   "outputs": [],
   "source": []
  },
  {
   "cell_type": "markdown",
   "id": "c0e785a9-bf13-4558-9a3a-b67503d8e295",
   "metadata": {},
   "source": [
    "## **4.0 Original Data Set Investigation**"
   ]
  },
  {
   "cell_type": "code",
   "execution_count": null,
   "id": "f8a9f1e4-08af-41c6-93bd-729d27525091",
   "metadata": {},
   "outputs": [],
   "source": []
  },
  {
   "cell_type": "code",
   "execution_count": null,
   "id": "3278e681-0fba-4718-b1ac-48dd9cc99612",
   "metadata": {},
   "outputs": [],
   "source": []
  },
  {
   "cell_type": "code",
   "execution_count": null,
   "id": "905ddb27-bbeb-42de-8bd0-2a3b2f95b97f",
   "metadata": {},
   "outputs": [],
   "source": []
  },
  {
   "cell_type": "markdown",
   "id": "56c13bc2-de16-432e-b684-fe85c1bf2c38",
   "metadata": {},
   "source": [
    "## **5.0 Data Set Simulation**"
   ]
  },
  {
   "cell_type": "code",
   "execution_count": null,
   "id": "404948b8-4f97-4aa4-80ed-46e48ffe49ef",
   "metadata": {},
   "outputs": [],
   "source": []
  },
  {
   "cell_type": "code",
   "execution_count": null,
   "id": "f5cb6594-00a7-4aae-ad4c-1d44ad38a5e9",
   "metadata": {},
   "outputs": [],
   "source": []
  },
  {
   "cell_type": "code",
   "execution_count": null,
   "id": "eda68e4d-5130-41fd-98bb-720f4db6eb81",
   "metadata": {},
   "outputs": [],
   "source": []
  },
  {
   "cell_type": "markdown",
   "id": "cdf89d6c-8edb-4ad8-ba69-16a08d607053",
   "metadata": {},
   "source": [
    "## **6.0 Data Set Comparison/Validation**"
   ]
  },
  {
   "cell_type": "code",
   "execution_count": null,
   "id": "01087d81-f867-4076-b567-8aff42634cc2",
   "metadata": {},
   "outputs": [],
   "source": []
  },
  {
   "cell_type": "code",
   "execution_count": null,
   "id": "27422cb1-8468-4863-9ba7-0f685d467cf6",
   "metadata": {},
   "outputs": [],
   "source": []
  },
  {
   "cell_type": "code",
   "execution_count": null,
   "id": "ab5a8c12-30eb-4940-b11d-706ad5fc22d3",
   "metadata": {},
   "outputs": [],
   "source": []
  },
  {
   "cell_type": "markdown",
   "id": "943885de-6713-4f8f-b37c-4feeb0ddef26",
   "metadata": {},
   "source": [
    "## **References Used:**\n",
    "\n",
    "*Placeholder*"
   ]
  },
  {
   "cell_type": "code",
   "execution_count": null,
   "id": "11512267-d301-43dc-9aa4-8b774190c615",
   "metadata": {},
   "outputs": [],
   "source": []
  }
 ],
 "metadata": {
  "kernelspec": {
   "display_name": "Python 3",
   "language": "python",
   "name": "python3"
  },
  "language_info": {
   "codemirror_mode": {
    "name": "ipython",
    "version": 3
   },
   "file_extension": ".py",
   "mimetype": "text/x-python",
   "name": "python",
   "nbconvert_exporter": "python",
   "pygments_lexer": "ipython3",
   "version": "3.8.8"
  }
 },
 "nbformat": 4,
 "nbformat_minor": 5
}
