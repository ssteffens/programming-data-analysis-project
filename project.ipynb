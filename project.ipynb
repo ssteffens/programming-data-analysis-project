{
 "cells": [
  {
   "cell_type": "markdown",
   "id": "38358792-efc1-4013-8efd-96b445f554ae",
   "metadata": {},
   "source": [
    "# Programming for Data Analysis - Project\n",
    "\n",
    "# **Data Set Simulation Based on the Palmer Penguins Data**"
   ]
  },
  {
   "cell_type": "markdown",
   "id": "61e6bb02-fccc-4cd5-aa36-62b28895a596",
   "metadata": {},
   "source": [
    "**Instructions:**\n",
    "\n",
    "Create a data set by simulating a real-world phenomenon. \n",
    "- Choose a real-world phenomenon that can be measured and for which yoy could collect at least one-hundred data points across at least four different variables\n",
    "- Investigate the types of variables involved, their likely distributions, and their relationships with each other\n",
    "- Synthesise/simulate a data set as closely matching their properties as possible\n",
    "- Detail your research and implement the simulation in a Jupyter notebook - the data set itself can simply be displayed in an output cell within the notebook\n",
    "\n",
    "\n"
   ]
  },
  {
   "cell_type": "markdown",
   "id": "736c89d1-1cb7-475a-ab84-87dd67aebfe0",
   "metadata": {},
   "source": [
    "## **Table of Contents**\n",
    "\n",
    "*Placeholder*"
   ]
  },
  {
   "cell_type": "markdown",
   "id": "e9110b61-ec61-4a7b-8c69-025ebe900413",
   "metadata": {},
   "source": [
    "## **1.0 Intro/Overview of Selected Data Set**\n",
    "This notebook will be used to investigate the Palmer's Penguins datas et and based on the findings create a simulated data set matching the properties of the original data. \n",
    "I selected the penguins data set as it contains several attributes that can be used for classifying the three different species. The original research paper and its accompanying data set are easily available as are cleansed and simplified versions of it, for example as a library in Python. "
   ]
  },
  {
   "cell_type": "markdown",
   "id": "28ec5667-9803-4f1f-a468-fb05ea2c7493",
   "metadata": {},
   "source": [
    "\n",
    "The original research paper published in 2014 is an investigation of size differences between male and female penguins of the Pygoscelis genus, so-called sexual dimorphism. \n",
    "\n",
    "The research was carried out on three different species of penguins nesting on three islands of the Palmer Archipelago in Antactica between 2007 and 2009 during the egg laying period. \n",
    "Islands: Biscoe, Torgersen and Dream\n",
    "Species: Adelie, Gentoo, Chinstrap\n",
    "Reduced sample size for chinstrap due to overall smaller population on the island. \n",
    "(page 2) \n",
    "\n",
    "Measurements taken: \n",
    "blood samples for determination of sex and SI analysis? \n",
    "measurements of structual size and body mass \n",
    "Culmen length\n",
    "Culmen depth\n",
    "right flipper\n",
    "body mass\n",
    "sea ice concentration (SIC): to calculate average sea ice area and duration of winter ice season\n",
    "(page 3)\n",
    "\n",
    "Sample sizes differ because of weather conditions hindering access to penguins (p3)\n",
    "\n",
    "https://journals.plos.org/plosone/article?id=10.1371/journal.pone.0090081# (18/12/2021)"
   ]
  },
  {
   "cell_type": "markdown",
   "id": "25314552-0e6a-4fbd-93f4-ebdd2bc01d17",
   "metadata": {},
   "source": [
    "Results overview: \n",
    "\"Our results demonstrate inter-specific differences in best morphological predictors of sex among Pygoscelis penguins. Adelie penguin body mass and culmen length were the strongest predictors of sex, while body mass and culmen depth were best predictors of male and female gentoo penguins. For chinstrap penguins, body mass was the least predictive structural feature, while culmen length and depth were similarly strong predictors of sex. Species-specific models based on these best morphological predictors correctly classified a high percentage of individuals from independent datasets (i.e., 89–94%). Interestingly, flipper length was not a strong predictor of sex for any of the three species. Culmen features and body mass are structures important during penguin courtship [52], and therefore, likely targets of sexual selection, which may be why these parameters are strong predictors of sex across Pygoscelis species.\" (page 9)\n"
   ]
  },
  {
   "cell_type": "markdown",
   "id": "6bd94b48-3d37-4185-bdbe-d01266a3eaa3",
   "metadata": {},
   "source": [
    "Links: \n",
    "\n",
    "Data set investigation\n",
    "https://github.com/allisonhorst/palmerpenguins (18/12/2021)\n",
    "\n",
    "https://www.kaggle.com/parulpandey/palmer-archipelago-antarctica-penguin-data (18/12/2021)\n",
    "\n",
    "https://towardsdatascience.com/penguins-dataset-overview-iris-alternative-9453bb8c8d95 (18/12/2021)\n",
    "\n",
    "https://www.kaggle.com/parulpandey/penguin-dataset-the-new-iris (18/12/2021)\n",
    "\n",
    "https://www.gabemednick.com/post/penguin/ (18/12/2021)\n",
    "\n",
    "https://github.com/mcnakhaee/palmerpenguins (18/12/2021)\n",
    "\n",
    "https://github.com/YuOlvera/PalmerPenguins (18/12/2021)\n",
    "\n",
    "https://www.python-graph-gallery.com/web-ggbetweenstats-with-matplotlib (18/12/2021)\n",
    "\n",
    "https://inria.github.io/scikit-learn-mooc/python_scripts/trees_dataset.html (18/12/2021)\n",
    "\n",
    "\n",
    "\n",
    "https://www.youtube.com/watch?v=Eai1jaZrRDs (18/12/2021)\n",
    "\n",
    "https://www.youtube.com/watch?v=6kD2OzF2uoU (18/12/2021)\n",
    "\n",
    "https://www.youtube.com/watch?v=uiYgZomY-v4 (18/12/2021)\n",
    "\n",
    "\n",
    "\n",
    "Penguins and Antarctica: \n",
    "https://en.wikipedia.org/wiki/Ad%C3%A9lie_penguin (18/12/2021)\n",
    "\n",
    "https://en.wikipedia.org/wiki/Chinstrap_penguin (18/12/2021)\n",
    "\n",
    "https://en.wikipedia.org/wiki/Gentoo_penguin (18/12/2021)\n",
    "\n",
    "https://en.wikipedia.org/wiki/Pygoscelis (18/12/2021)\n",
    "\n",
    "https://en.wikipedia.org/wiki/Palmer_Archipelago (18/12/2021)\n"
   ]
  },
  {
   "cell_type": "markdown",
   "id": "0a730eb3-2236-4600-b949-3ea6cf49801b",
   "metadata": {},
   "source": [
    "## **2.0 Accessing the Original Data Set**"
   ]
  },
  {
   "cell_type": "code",
   "execution_count": null,
   "id": "7df34bc4-b0b7-4b3a-b0b2-d957827b0172",
   "metadata": {},
   "outputs": [],
   "source": []
  },
  {
   "cell_type": "code",
   "execution_count": null,
   "id": "2dba67cd-4f3a-48b2-b625-3c4fdf5443b1",
   "metadata": {},
   "outputs": [],
   "source": []
  },
  {
   "cell_type": "code",
   "execution_count": null,
   "id": "5df8b7bd-6f41-4065-8ae8-8fb472fed7ef",
   "metadata": {},
   "outputs": [],
   "source": []
  },
  {
   "cell_type": "markdown",
   "id": "b22c48a8-b2c4-4a30-a008-679b06507bcf",
   "metadata": {},
   "source": [
    "## **3.0 Preparing/Cleansing the Original Data Set**"
   ]
  },
  {
   "cell_type": "code",
   "execution_count": null,
   "id": "9f09cb8a-ff87-40c5-9aa7-0c427c61e1b1",
   "metadata": {},
   "outputs": [],
   "source": []
  },
  {
   "cell_type": "code",
   "execution_count": null,
   "id": "ae91fd9f-f604-44b0-8d5a-cd36130bc33a",
   "metadata": {},
   "outputs": [],
   "source": []
  },
  {
   "cell_type": "code",
   "execution_count": null,
   "id": "ec04b819-5a3b-4183-9f4f-f15ae8412d0a",
   "metadata": {},
   "outputs": [],
   "source": []
  },
  {
   "cell_type": "markdown",
   "id": "c0e785a9-bf13-4558-9a3a-b67503d8e295",
   "metadata": {},
   "source": [
    "## **4.0 Original Data Set Investigation**"
   ]
  },
  {
   "cell_type": "code",
   "execution_count": null,
   "id": "f8a9f1e4-08af-41c6-93bd-729d27525091",
   "metadata": {},
   "outputs": [],
   "source": []
  },
  {
   "cell_type": "code",
   "execution_count": null,
   "id": "3278e681-0fba-4718-b1ac-48dd9cc99612",
   "metadata": {},
   "outputs": [],
   "source": []
  },
  {
   "cell_type": "code",
   "execution_count": null,
   "id": "905ddb27-bbeb-42de-8bd0-2a3b2f95b97f",
   "metadata": {},
   "outputs": [],
   "source": []
  },
  {
   "cell_type": "markdown",
   "id": "56c13bc2-de16-432e-b684-fe85c1bf2c38",
   "metadata": {},
   "source": [
    "## **5.0 Data Set Simulation**"
   ]
  },
  {
   "cell_type": "code",
   "execution_count": null,
   "id": "404948b8-4f97-4aa4-80ed-46e48ffe49ef",
   "metadata": {},
   "outputs": [],
   "source": []
  },
  {
   "cell_type": "code",
   "execution_count": null,
   "id": "f5cb6594-00a7-4aae-ad4c-1d44ad38a5e9",
   "metadata": {},
   "outputs": [],
   "source": []
  },
  {
   "cell_type": "code",
   "execution_count": null,
   "id": "eda68e4d-5130-41fd-98bb-720f4db6eb81",
   "metadata": {},
   "outputs": [],
   "source": []
  },
  {
   "cell_type": "markdown",
   "id": "cdf89d6c-8edb-4ad8-ba69-16a08d607053",
   "metadata": {},
   "source": [
    "## **6.0 Data Set Comparison/Validation**"
   ]
  },
  {
   "cell_type": "code",
   "execution_count": null,
   "id": "01087d81-f867-4076-b567-8aff42634cc2",
   "metadata": {},
   "outputs": [],
   "source": []
  },
  {
   "cell_type": "code",
   "execution_count": null,
   "id": "27422cb1-8468-4863-9ba7-0f685d467cf6",
   "metadata": {},
   "outputs": [],
   "source": []
  },
  {
   "cell_type": "code",
   "execution_count": null,
   "id": "ab5a8c12-30eb-4940-b11d-706ad5fc22d3",
   "metadata": {},
   "outputs": [],
   "source": []
  },
  {
   "cell_type": "markdown",
   "id": "943885de-6713-4f8f-b37c-4feeb0ddef26",
   "metadata": {},
   "source": [
    "## **References Used:**\n",
    "\n",
    "*Placeholder*"
   ]
  },
  {
   "cell_type": "code",
   "execution_count": null,
   "id": "11512267-d301-43dc-9aa4-8b774190c615",
   "metadata": {},
   "outputs": [],
   "source": []
  }
 ],
 "metadata": {
  "kernelspec": {
   "display_name": "Python 3",
   "language": "python",
   "name": "python3"
  },
  "language_info": {
   "codemirror_mode": {
    "name": "ipython",
    "version": 3
   },
   "file_extension": ".py",
   "mimetype": "text/x-python",
   "name": "python",
   "nbconvert_exporter": "python",
   "pygments_lexer": "ipython3",
   "version": "3.8.8"
  }
 },
 "nbformat": 4,
 "nbformat_minor": 5
}
