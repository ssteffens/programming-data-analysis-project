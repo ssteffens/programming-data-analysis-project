{
 "cells": [
  {
   "cell_type": "markdown",
   "id": "38358792-efc1-4013-8efd-96b445f554ae",
   "metadata": {},
   "source": [
    "# Programming for Data Analysis - Project\n",
    "\n",
    "# **Data Set Simulation Based on the Palmer Penguins Data**"
   ]
  },
  {
   "cell_type": "markdown",
   "id": "61e6bb02-fccc-4cd5-aa36-62b28895a596",
   "metadata": {},
   "source": [
    "**Instructions:**\n",
    "\n",
    "Create a data set by simulating a real-world phenomenon. \n",
    "- Choose a real-world phenomenon that can be measured and for which yoy could collect at least one-hundred data points across at least four different variables\n",
    "- Investigate the types of variables involved, their likely distributions, and their relationships with each other\n",
    "- Synthesise/simulate a data set as closely matching their properties as possible\n",
    "- Detail your research and implement the simulation in a Jupyter notebook - the data set itself can simply be displayed in an output cell within the notebook\n",
    "\n",
    "\n"
   ]
  },
  {
   "cell_type": "markdown",
   "id": "736c89d1-1cb7-475a-ab84-87dd67aebfe0",
   "metadata": {},
   "source": [
    "## **Table of Contents**\n",
    "\n",
    "*Placeholder*"
   ]
  },
  {
   "cell_type": "markdown",
   "id": "e9110b61-ec61-4a7b-8c69-025ebe900413",
   "metadata": {},
   "source": [
    "## **1.0 Intro/Overview of Selected Data Set**\n",
    "This notebook will be used to investigate the Palmer's Penguins datas et and based on the findings create a simulated data set matching the properties of the original data. \n",
    "I selected the penguins data set as it contains several attributes that can be used for classifying the three different species. The original research paper and its accompanying data set are easily available as are cleansed and simplified versions of it, for example as a library in Python. "
   ]
  },
  {
   "cell_type": "markdown",
   "id": "28ec5667-9803-4f1f-a468-fb05ea2c7493",
   "metadata": {},
   "source": [
    "\n",
    "The original research paper published in 2014 is an investigation of size differences between male and female penguins of the Pygoscelis genus, so-called sexual dimorphism. \n",
    "\n",
    "The research was carried out on three different species of penguins nesting on three islands of the Palmer Archipelago in Antactica between 2007 and 2009 during the egg laying period. \n",
    "Islands: Biscoe, Torgersen and Dream\n",
    "Species: Adelie, Gentoo, Chinstrap\n",
    "Reduced sample size for chinstrap due to overall smaller population on the island. \n",
    "(page 2) \n",
    "\n",
    "Measurements taken: \n",
    "blood samples for determination of sex and SI analysis? \n",
    "measurements of structual size and body mass \n",
    "Culmen length\n",
    "Culmen depth\n",
    "right flipper\n",
    "body mass\n",
    "sea ice concentration (SIC): to calculate average sea ice area and duration of winter ice season\n",
    "(page 3)\n",
    "\n",
    "Sample sizes differ because of weather conditions hindering access to penguins (p3)\n",
    "\n",
    "https://journals.plos.org/plosone/article?id=10.1371/journal.pone.0090081# (18/12/2021)"
   ]
  },
  {
   "cell_type": "markdown",
   "id": "25314552-0e6a-4fbd-93f4-ebdd2bc01d17",
   "metadata": {},
   "source": [
    "Results overview: \n",
    "\"Our results demonstrate inter-specific differences in best morphological predictors of sex among Pygoscelis penguins. Adelie penguin body mass and culmen length were the strongest predictors of sex, while body mass and culmen depth were best predictors of male and female gentoo penguins. For chinstrap penguins, body mass was the least predictive structural feature, while culmen length and depth were similarly strong predictors of sex. Species-specific models based on these best morphological predictors correctly classified a high percentage of individuals from independent datasets (i.e., 89–94%). Interestingly, flipper length was not a strong predictor of sex for any of the three species. Culmen features and body mass are structures important during penguin courtship [52], and therefore, likely targets of sexual selection, which may be why these parameters are strong predictors of sex across Pygoscelis species.\" (page 9)\n"
   ]
  },
  {
   "cell_type": "markdown",
   "id": "6bd94b48-3d37-4185-bdbe-d01266a3eaa3",
   "metadata": {},
   "source": [
    "Links: \n",
    "\n",
    "Data set investigation\n",
    "https://github.com/allisonhorst/palmerpenguins (18/12/2021)\n",
    "\n",
    "https://www.kaggle.com/parulpandey/palmer-archipelago-antarctica-penguin-data (18/12/2021)\n",
    "\n",
    "https://towardsdatascience.com/penguins-dataset-overview-iris-alternative-9453bb8c8d95 (18/12/2021)\n",
    "\n",
    "https://www.kaggle.com/parulpandey/penguin-dataset-the-new-iris (18/12/2021)\n",
    "\n",
    "https://www.gabemednick.com/post/penguin/ (18/12/2021)\n",
    "\n",
    "https://github.com/mcnakhaee/palmerpenguins (18/12/2021)\n",
    "\n",
    "https://github.com/YuOlvera/PalmerPenguins (18/12/2021)\n",
    "\n",
    "https://www.python-graph-gallery.com/web-ggbetweenstats-with-matplotlib (18/12/2021)\n",
    "\n",
    "https://inria.github.io/scikit-learn-mooc/python_scripts/trees_dataset.html (18/12/2021)\n",
    "\n",
    "\n",
    "\n",
    "https://www.youtube.com/watch?v=Eai1jaZrRDs (18/12/2021)\n",
    "\n",
    "https://www.youtube.com/watch?v=6kD2OzF2uoU (18/12/2021)\n",
    "\n",
    "https://www.youtube.com/watch?v=uiYgZomY-v4 (18/12/2021)\n",
    "\n",
    "\n",
    "\n",
    "Penguins and Antarctica: \n",
    "https://en.wikipedia.org/wiki/Ad%C3%A9lie_penguin (18/12/2021)\n",
    "\n",
    "https://en.wikipedia.org/wiki/Chinstrap_penguin (18/12/2021)\n",
    "\n",
    "https://en.wikipedia.org/wiki/Gentoo_penguin (18/12/2021)\n",
    "\n",
    "https://en.wikipedia.org/wiki/Pygoscelis (18/12/2021)\n",
    "\n",
    "https://en.wikipedia.org/wiki/Palmer_Archipelago (18/12/2021)\n"
   ]
  },
  {
   "cell_type": "markdown",
   "id": "0a730eb3-2236-4600-b949-3ea6cf49801b",
   "metadata": {},
   "source": [
    "## **2.0 Accessing the Original Data Set**"
   ]
  },
  {
   "cell_type": "markdown",
   "id": "fb317d5e-292f-4cd8-adce-7a0bfa54b470",
   "metadata": {},
   "source": [
    "There are several options to get the data set into Python code, to list a few options: \n",
    "- Using the `read_csv()` function from an online csv version of the data set\n",
    "- Importing the Python library palmerpenguins\n",
    "- Importing the data set from the seaborn library\n",
    "\n",
    "For this notebook the data set will be accessed from the palmerpenguins library. To be able to use it, the library first needs to be installed, for example using the command `pip install palmerpenguins`. \n",
    "\n",
    "https://pypi.org/project/palmerpenguins (18/12/2021)"
   ]
  },
  {
   "cell_type": "code",
   "execution_count": 1,
   "id": "2dba67cd-4f3a-48b2-b625-3c4fdf5443b1",
   "metadata": {},
   "outputs": [],
   "source": [
    "# Importing the penguins dataset\n",
    "from palmerpenguins import load_penguins\n",
    "\n",
    "# Importing pandas for working with datasets\n",
    "import pandas as pd"
   ]
  },
  {
   "cell_type": "markdown",
   "id": "fd6de155-c3bc-4290-a42a-c76633766e46",
   "metadata": {},
   "source": [
    "The dataset can then be defined as a variable."
   ]
  },
  {
   "cell_type": "code",
   "execution_count": 2,
   "id": "9c9dda2f-a521-4b6a-8d76-0b24dbefb8c6",
   "metadata": {},
   "outputs": [],
   "source": [
    "# Defining the dataset\n",
    "penguins = load_penguins()"
   ]
  },
  {
   "cell_type": "markdown",
   "id": "b22c48a8-b2c4-4a30-a008-679b06507bcf",
   "metadata": {},
   "source": [
    "## **3.0 Preparing/Cleansing the Original Data Set**"
   ]
  },
  {
   "cell_type": "markdown",
   "id": "135dd585-98d3-40b3-86a5-29dfff2e5546",
   "metadata": {},
   "source": [
    "The palmerpenguins library contains a modified version of the original dataset, for easier usage some irrelevant columns have been removed. \n",
    "\n",
    "https://allisonhorst.github.io/palmerpenguins/#about-the-data (19/12/2021)\n",
    "\n",
    "Further cleanup of the data set might be required ahead of starting the analysis. To get a first understanding of the data, the pandas library offers a number of options, for example using the `info()` function for an overview of columns, the number of values and their data type. "
   ]
  },
  {
   "cell_type": "code",
   "execution_count": 3,
   "id": "ae91fd9f-f604-44b0-8d5a-cd36130bc33a",
   "metadata": {},
   "outputs": [
    {
     "name": "stdout",
     "output_type": "stream",
     "text": [
      "<class 'pandas.core.frame.DataFrame'>\n",
      "RangeIndex: 344 entries, 0 to 343\n",
      "Data columns (total 8 columns):\n",
      " #   Column             Non-Null Count  Dtype  \n",
      "---  ------             --------------  -----  \n",
      " 0   species            344 non-null    object \n",
      " 1   island             344 non-null    object \n",
      " 2   bill_length_mm     342 non-null    float64\n",
      " 3   bill_depth_mm      342 non-null    float64\n",
      " 4   flipper_length_mm  342 non-null    float64\n",
      " 5   body_mass_g        342 non-null    float64\n",
      " 6   sex                333 non-null    object \n",
      " 7   year               344 non-null    int64  \n",
      "dtypes: float64(4), int64(1), object(3)\n",
      "memory usage: 21.6+ KB\n"
     ]
    }
   ],
   "source": [
    "# Overview of the data set\n",
    "penguins.info()"
   ]
  },
  {
   "cell_type": "markdown",
   "id": "28877c05-9036-410a-b234-2be0dc82e977",
   "metadata": {},
   "source": [
    "For a visual inspection of the data set the `head()` function can be useful. It displays the first rows of the data set, the number of rows to be displayed can be set individually by adding a parameter (default if left blank is 5 rows). "
   ]
  },
  {
   "cell_type": "code",
   "execution_count": 4,
   "id": "47d6e186-4ecf-4d9e-aa76-27a493af932d",
   "metadata": {},
   "outputs": [
    {
     "data": {
      "text/html": [
       "<div>\n",
       "<style scoped>\n",
       "    .dataframe tbody tr th:only-of-type {\n",
       "        vertical-align: middle;\n",
       "    }\n",
       "\n",
       "    .dataframe tbody tr th {\n",
       "        vertical-align: top;\n",
       "    }\n",
       "\n",
       "    .dataframe thead th {\n",
       "        text-align: right;\n",
       "    }\n",
       "</style>\n",
       "<table border=\"1\" class=\"dataframe\">\n",
       "  <thead>\n",
       "    <tr style=\"text-align: right;\">\n",
       "      <th></th>\n",
       "      <th>species</th>\n",
       "      <th>island</th>\n",
       "      <th>bill_length_mm</th>\n",
       "      <th>bill_depth_mm</th>\n",
       "      <th>flipper_length_mm</th>\n",
       "      <th>body_mass_g</th>\n",
       "      <th>sex</th>\n",
       "      <th>year</th>\n",
       "    </tr>\n",
       "  </thead>\n",
       "  <tbody>\n",
       "    <tr>\n",
       "      <th>0</th>\n",
       "      <td>Adelie</td>\n",
       "      <td>Torgersen</td>\n",
       "      <td>39.1</td>\n",
       "      <td>18.7</td>\n",
       "      <td>181.0</td>\n",
       "      <td>3750.0</td>\n",
       "      <td>male</td>\n",
       "      <td>2007</td>\n",
       "    </tr>\n",
       "    <tr>\n",
       "      <th>1</th>\n",
       "      <td>Adelie</td>\n",
       "      <td>Torgersen</td>\n",
       "      <td>39.5</td>\n",
       "      <td>17.4</td>\n",
       "      <td>186.0</td>\n",
       "      <td>3800.0</td>\n",
       "      <td>female</td>\n",
       "      <td>2007</td>\n",
       "    </tr>\n",
       "    <tr>\n",
       "      <th>2</th>\n",
       "      <td>Adelie</td>\n",
       "      <td>Torgersen</td>\n",
       "      <td>40.3</td>\n",
       "      <td>18.0</td>\n",
       "      <td>195.0</td>\n",
       "      <td>3250.0</td>\n",
       "      <td>female</td>\n",
       "      <td>2007</td>\n",
       "    </tr>\n",
       "    <tr>\n",
       "      <th>3</th>\n",
       "      <td>Adelie</td>\n",
       "      <td>Torgersen</td>\n",
       "      <td>NaN</td>\n",
       "      <td>NaN</td>\n",
       "      <td>NaN</td>\n",
       "      <td>NaN</td>\n",
       "      <td>NaN</td>\n",
       "      <td>2007</td>\n",
       "    </tr>\n",
       "    <tr>\n",
       "      <th>4</th>\n",
       "      <td>Adelie</td>\n",
       "      <td>Torgersen</td>\n",
       "      <td>36.7</td>\n",
       "      <td>19.3</td>\n",
       "      <td>193.0</td>\n",
       "      <td>3450.0</td>\n",
       "      <td>female</td>\n",
       "      <td>2007</td>\n",
       "    </tr>\n",
       "    <tr>\n",
       "      <th>5</th>\n",
       "      <td>Adelie</td>\n",
       "      <td>Torgersen</td>\n",
       "      <td>39.3</td>\n",
       "      <td>20.6</td>\n",
       "      <td>190.0</td>\n",
       "      <td>3650.0</td>\n",
       "      <td>male</td>\n",
       "      <td>2007</td>\n",
       "    </tr>\n",
       "    <tr>\n",
       "      <th>6</th>\n",
       "      <td>Adelie</td>\n",
       "      <td>Torgersen</td>\n",
       "      <td>38.9</td>\n",
       "      <td>17.8</td>\n",
       "      <td>181.0</td>\n",
       "      <td>3625.0</td>\n",
       "      <td>female</td>\n",
       "      <td>2007</td>\n",
       "    </tr>\n",
       "    <tr>\n",
       "      <th>7</th>\n",
       "      <td>Adelie</td>\n",
       "      <td>Torgersen</td>\n",
       "      <td>39.2</td>\n",
       "      <td>19.6</td>\n",
       "      <td>195.0</td>\n",
       "      <td>4675.0</td>\n",
       "      <td>male</td>\n",
       "      <td>2007</td>\n",
       "    </tr>\n",
       "    <tr>\n",
       "      <th>8</th>\n",
       "      <td>Adelie</td>\n",
       "      <td>Torgersen</td>\n",
       "      <td>34.1</td>\n",
       "      <td>18.1</td>\n",
       "      <td>193.0</td>\n",
       "      <td>3475.0</td>\n",
       "      <td>NaN</td>\n",
       "      <td>2007</td>\n",
       "    </tr>\n",
       "    <tr>\n",
       "      <th>9</th>\n",
       "      <td>Adelie</td>\n",
       "      <td>Torgersen</td>\n",
       "      <td>42.0</td>\n",
       "      <td>20.2</td>\n",
       "      <td>190.0</td>\n",
       "      <td>4250.0</td>\n",
       "      <td>NaN</td>\n",
       "      <td>2007</td>\n",
       "    </tr>\n",
       "  </tbody>\n",
       "</table>\n",
       "</div>"
      ],
      "text/plain": [
       "  species     island  bill_length_mm  bill_depth_mm  flipper_length_mm  \\\n",
       "0  Adelie  Torgersen            39.1           18.7              181.0   \n",
       "1  Adelie  Torgersen            39.5           17.4              186.0   \n",
       "2  Adelie  Torgersen            40.3           18.0              195.0   \n",
       "3  Adelie  Torgersen             NaN            NaN                NaN   \n",
       "4  Adelie  Torgersen            36.7           19.3              193.0   \n",
       "5  Adelie  Torgersen            39.3           20.6              190.0   \n",
       "6  Adelie  Torgersen            38.9           17.8              181.0   \n",
       "7  Adelie  Torgersen            39.2           19.6              195.0   \n",
       "8  Adelie  Torgersen            34.1           18.1              193.0   \n",
       "9  Adelie  Torgersen            42.0           20.2              190.0   \n",
       "\n",
       "   body_mass_g     sex  year  \n",
       "0       3750.0    male  2007  \n",
       "1       3800.0  female  2007  \n",
       "2       3250.0  female  2007  \n",
       "3          NaN     NaN  2007  \n",
       "4       3450.0  female  2007  \n",
       "5       3650.0    male  2007  \n",
       "6       3625.0  female  2007  \n",
       "7       4675.0    male  2007  \n",
       "8       3475.0     NaN  2007  \n",
       "9       4250.0     NaN  2007  "
      ]
     },
     "execution_count": 4,
     "metadata": {},
     "output_type": "execute_result"
    }
   ],
   "source": [
    "# Displaying the first ten rows of the data set\n",
    "penguins.head(10)"
   ]
  },
  {
   "cell_type": "markdown",
   "id": "64b72c4a-c224-4f96-a143-782cb450906a",
   "metadata": {},
   "source": [
    "# Remove missing values\n",
    "The output of the `info()` function shows that there are 344 data records in total. Some of the columns contain null values, for example bill_length_mm, billdepth_mm, flipper_length_mm, body_mass_g and sex. One of these rows is also visible in the first 10 rows (index 3)\n",
    "\n",
    "To get a better understanding of the full picture, variations of the `isna()` function can be used to determine the number of instances of NaN records and identify affected records. \n",
    "\n",
    "https://datatofish.com/check-nan-pandas-dataframe/ (18/12/2021)\n",
    "\n",
    "https://datatofish.com/rows-with-nan-pandas-dataframe/ (18/12/2021)\n"
   ]
  },
  {
   "cell_type": "code",
   "execution_count": 5,
   "id": "4652e497-cec8-42c8-9071-e53ce910795e",
   "metadata": {},
   "outputs": [
    {
     "data": {
      "text/plain": [
       "True"
      ]
     },
     "execution_count": 5,
     "metadata": {},
     "output_type": "execute_result"
    }
   ],
   "source": [
    "# Determine if there are NaN values in whole data set\n",
    "penguins.isna().values.any()"
   ]
  },
  {
   "cell_type": "code",
   "execution_count": 6,
   "id": "2889d687-d2b6-45bc-92c6-a3524c0edf1e",
   "metadata": {},
   "outputs": [
    {
     "data": {
      "text/plain": [
       "19"
      ]
     },
     "execution_count": 6,
     "metadata": {},
     "output_type": "execute_result"
    }
   ],
   "source": [
    "# Count NaN values in whole data set\n",
    "penguins.isna().sum().sum()"
   ]
  },
  {
   "cell_type": "code",
   "execution_count": 7,
   "id": "cf867a77-9c26-4997-9999-46e5c7e068c3",
   "metadata": {},
   "outputs": [
    {
     "data": {
      "text/html": [
       "<div>\n",
       "<style scoped>\n",
       "    .dataframe tbody tr th:only-of-type {\n",
       "        vertical-align: middle;\n",
       "    }\n",
       "\n",
       "    .dataframe tbody tr th {\n",
       "        vertical-align: top;\n",
       "    }\n",
       "\n",
       "    .dataframe thead th {\n",
       "        text-align: right;\n",
       "    }\n",
       "</style>\n",
       "<table border=\"1\" class=\"dataframe\">\n",
       "  <thead>\n",
       "    <tr style=\"text-align: right;\">\n",
       "      <th></th>\n",
       "      <th>species</th>\n",
       "      <th>island</th>\n",
       "      <th>bill_length_mm</th>\n",
       "      <th>bill_depth_mm</th>\n",
       "      <th>flipper_length_mm</th>\n",
       "      <th>body_mass_g</th>\n",
       "      <th>sex</th>\n",
       "      <th>year</th>\n",
       "    </tr>\n",
       "  </thead>\n",
       "  <tbody>\n",
       "    <tr>\n",
       "      <th>3</th>\n",
       "      <td>Adelie</td>\n",
       "      <td>Torgersen</td>\n",
       "      <td>NaN</td>\n",
       "      <td>NaN</td>\n",
       "      <td>NaN</td>\n",
       "      <td>NaN</td>\n",
       "      <td>NaN</td>\n",
       "      <td>2007</td>\n",
       "    </tr>\n",
       "    <tr>\n",
       "      <th>8</th>\n",
       "      <td>Adelie</td>\n",
       "      <td>Torgersen</td>\n",
       "      <td>34.1</td>\n",
       "      <td>18.1</td>\n",
       "      <td>193.0</td>\n",
       "      <td>3475.0</td>\n",
       "      <td>NaN</td>\n",
       "      <td>2007</td>\n",
       "    </tr>\n",
       "    <tr>\n",
       "      <th>9</th>\n",
       "      <td>Adelie</td>\n",
       "      <td>Torgersen</td>\n",
       "      <td>42.0</td>\n",
       "      <td>20.2</td>\n",
       "      <td>190.0</td>\n",
       "      <td>4250.0</td>\n",
       "      <td>NaN</td>\n",
       "      <td>2007</td>\n",
       "    </tr>\n",
       "    <tr>\n",
       "      <th>10</th>\n",
       "      <td>Adelie</td>\n",
       "      <td>Torgersen</td>\n",
       "      <td>37.8</td>\n",
       "      <td>17.1</td>\n",
       "      <td>186.0</td>\n",
       "      <td>3300.0</td>\n",
       "      <td>NaN</td>\n",
       "      <td>2007</td>\n",
       "    </tr>\n",
       "    <tr>\n",
       "      <th>11</th>\n",
       "      <td>Adelie</td>\n",
       "      <td>Torgersen</td>\n",
       "      <td>37.8</td>\n",
       "      <td>17.3</td>\n",
       "      <td>180.0</td>\n",
       "      <td>3700.0</td>\n",
       "      <td>NaN</td>\n",
       "      <td>2007</td>\n",
       "    </tr>\n",
       "    <tr>\n",
       "      <th>47</th>\n",
       "      <td>Adelie</td>\n",
       "      <td>Dream</td>\n",
       "      <td>37.5</td>\n",
       "      <td>18.9</td>\n",
       "      <td>179.0</td>\n",
       "      <td>2975.0</td>\n",
       "      <td>NaN</td>\n",
       "      <td>2007</td>\n",
       "    </tr>\n",
       "    <tr>\n",
       "      <th>178</th>\n",
       "      <td>Gentoo</td>\n",
       "      <td>Biscoe</td>\n",
       "      <td>44.5</td>\n",
       "      <td>14.3</td>\n",
       "      <td>216.0</td>\n",
       "      <td>4100.0</td>\n",
       "      <td>NaN</td>\n",
       "      <td>2007</td>\n",
       "    </tr>\n",
       "    <tr>\n",
       "      <th>218</th>\n",
       "      <td>Gentoo</td>\n",
       "      <td>Biscoe</td>\n",
       "      <td>46.2</td>\n",
       "      <td>14.4</td>\n",
       "      <td>214.0</td>\n",
       "      <td>4650.0</td>\n",
       "      <td>NaN</td>\n",
       "      <td>2008</td>\n",
       "    </tr>\n",
       "    <tr>\n",
       "      <th>256</th>\n",
       "      <td>Gentoo</td>\n",
       "      <td>Biscoe</td>\n",
       "      <td>47.3</td>\n",
       "      <td>13.8</td>\n",
       "      <td>216.0</td>\n",
       "      <td>4725.0</td>\n",
       "      <td>NaN</td>\n",
       "      <td>2009</td>\n",
       "    </tr>\n",
       "    <tr>\n",
       "      <th>268</th>\n",
       "      <td>Gentoo</td>\n",
       "      <td>Biscoe</td>\n",
       "      <td>44.5</td>\n",
       "      <td>15.7</td>\n",
       "      <td>217.0</td>\n",
       "      <td>4875.0</td>\n",
       "      <td>NaN</td>\n",
       "      <td>2009</td>\n",
       "    </tr>\n",
       "    <tr>\n",
       "      <th>271</th>\n",
       "      <td>Gentoo</td>\n",
       "      <td>Biscoe</td>\n",
       "      <td>NaN</td>\n",
       "      <td>NaN</td>\n",
       "      <td>NaN</td>\n",
       "      <td>NaN</td>\n",
       "      <td>NaN</td>\n",
       "      <td>2009</td>\n",
       "    </tr>\n",
       "  </tbody>\n",
       "</table>\n",
       "</div>"
      ],
      "text/plain": [
       "    species     island  bill_length_mm  bill_depth_mm  flipper_length_mm  \\\n",
       "3    Adelie  Torgersen             NaN            NaN                NaN   \n",
       "8    Adelie  Torgersen            34.1           18.1              193.0   \n",
       "9    Adelie  Torgersen            42.0           20.2              190.0   \n",
       "10   Adelie  Torgersen            37.8           17.1              186.0   \n",
       "11   Adelie  Torgersen            37.8           17.3              180.0   \n",
       "47   Adelie      Dream            37.5           18.9              179.0   \n",
       "178  Gentoo     Biscoe            44.5           14.3              216.0   \n",
       "218  Gentoo     Biscoe            46.2           14.4              214.0   \n",
       "256  Gentoo     Biscoe            47.3           13.8              216.0   \n",
       "268  Gentoo     Biscoe            44.5           15.7              217.0   \n",
       "271  Gentoo     Biscoe             NaN            NaN                NaN   \n",
       "\n",
       "     body_mass_g  sex  year  \n",
       "3            NaN  NaN  2007  \n",
       "8         3475.0  NaN  2007  \n",
       "9         4250.0  NaN  2007  \n",
       "10        3300.0  NaN  2007  \n",
       "11        3700.0  NaN  2007  \n",
       "47        2975.0  NaN  2007  \n",
       "178       4100.0  NaN  2007  \n",
       "218       4650.0  NaN  2008  \n",
       "256       4725.0  NaN  2009  \n",
       "268       4875.0  NaN  2009  \n",
       "271          NaN  NaN  2009  "
      ]
     },
     "execution_count": 7,
     "metadata": {},
     "output_type": "execute_result"
    }
   ],
   "source": [
    "# Display all columns with one or more values = NaN\n",
    "penguins[penguins.isna().any(axis=1)]"
   ]
  },
  {
   "cell_type": "markdown",
   "id": "c3a1c014-e4ea-4630-995a-1109f7395924",
   "metadata": {},
   "source": [
    "There are different methods available for populating missing values, for example, for numerical values using the column mean and for categorical values to using the most frequent value (mode). \n",
    "https://www.geeksforgeeks.org/python-replace-nan-values-with-average-of-columns/?ref=rp (19/12/2021) \n",
    "<br>\n",
    "For this project, columns with NaN values will be removed using the `dropna()` function.\n",
    "\n",
    "https://datatofish.com/dropna/ (18/12/2021)"
   ]
  },
  {
   "cell_type": "code",
   "execution_count": 10,
   "id": "6e7b41a0-530d-40f4-9e56-9a263a89da26",
   "metadata": {},
   "outputs": [],
   "source": [
    "# Removing all columns with NaN values\n",
    "penguins = penguins.dropna()\n",
    "\n",
    "# Resetting the index column\n",
    "penguins = penguins.reset_index(drop=True)"
   ]
  },
  {
   "cell_type": "code",
   "execution_count": 11,
   "id": "c15067d6-186f-4632-84b8-0c324af46b17",
   "metadata": {},
   "outputs": [
    {
     "name": "stdout",
     "output_type": "stream",
     "text": [
      "<class 'pandas.core.frame.DataFrame'>\n",
      "RangeIndex: 333 entries, 0 to 332\n",
      "Data columns (total 8 columns):\n",
      " #   Column             Non-Null Count  Dtype  \n",
      "---  ------             --------------  -----  \n",
      " 0   species            333 non-null    object \n",
      " 1   island             333 non-null    object \n",
      " 2   bill_length_mm     333 non-null    float64\n",
      " 3   bill_depth_mm      333 non-null    float64\n",
      " 4   flipper_length_mm  333 non-null    float64\n",
      " 5   body_mass_g        333 non-null    float64\n",
      " 6   sex                333 non-null    object \n",
      " 7   year               333 non-null    int64  \n",
      "dtypes: float64(4), int64(1), object(3)\n",
      "memory usage: 20.9+ KB\n"
     ]
    }
   ],
   "source": [
    "# Re-run info() to verify new size of dataset\n",
    "penguins.info()"
   ]
  },
  {
   "cell_type": "code",
   "execution_count": null,
   "id": "406c2889-44bb-4c6a-a2d2-3582098d6c33",
   "metadata": {},
   "outputs": [],
   "source": []
  },
  {
   "cell_type": "markdown",
   "id": "c0e785a9-bf13-4558-9a3a-b67503d8e295",
   "metadata": {},
   "source": [
    "## **4.0 Original Data Set Investigation**"
   ]
  },
  {
   "cell_type": "code",
   "execution_count": null,
   "id": "f8a9f1e4-08af-41c6-93bd-729d27525091",
   "metadata": {},
   "outputs": [],
   "source": []
  },
  {
   "cell_type": "code",
   "execution_count": null,
   "id": "3278e681-0fba-4718-b1ac-48dd9cc99612",
   "metadata": {},
   "outputs": [],
   "source": []
  },
  {
   "cell_type": "code",
   "execution_count": null,
   "id": "905ddb27-bbeb-42de-8bd0-2a3b2f95b97f",
   "metadata": {},
   "outputs": [],
   "source": []
  },
  {
   "cell_type": "markdown",
   "id": "56c13bc2-de16-432e-b684-fe85c1bf2c38",
   "metadata": {},
   "source": [
    "## **5.0 Data Set Simulation**"
   ]
  },
  {
   "cell_type": "code",
   "execution_count": null,
   "id": "404948b8-4f97-4aa4-80ed-46e48ffe49ef",
   "metadata": {},
   "outputs": [],
   "source": []
  },
  {
   "cell_type": "code",
   "execution_count": null,
   "id": "f5cb6594-00a7-4aae-ad4c-1d44ad38a5e9",
   "metadata": {},
   "outputs": [],
   "source": []
  },
  {
   "cell_type": "code",
   "execution_count": null,
   "id": "eda68e4d-5130-41fd-98bb-720f4db6eb81",
   "metadata": {},
   "outputs": [],
   "source": []
  },
  {
   "cell_type": "markdown",
   "id": "cdf89d6c-8edb-4ad8-ba69-16a08d607053",
   "metadata": {},
   "source": [
    "## **6.0 Data Set Comparison/Validation**"
   ]
  },
  {
   "cell_type": "code",
   "execution_count": null,
   "id": "01087d81-f867-4076-b567-8aff42634cc2",
   "metadata": {},
   "outputs": [],
   "source": []
  },
  {
   "cell_type": "code",
   "execution_count": null,
   "id": "27422cb1-8468-4863-9ba7-0f685d467cf6",
   "metadata": {},
   "outputs": [],
   "source": []
  },
  {
   "cell_type": "code",
   "execution_count": null,
   "id": "ab5a8c12-30eb-4940-b11d-706ad5fc22d3",
   "metadata": {},
   "outputs": [],
   "source": []
  },
  {
   "cell_type": "markdown",
   "id": "943885de-6713-4f8f-b37c-4feeb0ddef26",
   "metadata": {},
   "source": [
    "## **References Used:**\n",
    "\n",
    "*Placeholder*"
   ]
  },
  {
   "cell_type": "code",
   "execution_count": null,
   "id": "11512267-d301-43dc-9aa4-8b774190c615",
   "metadata": {},
   "outputs": [],
   "source": []
  }
 ],
 "metadata": {
  "kernelspec": {
   "display_name": "Python 3",
   "language": "python",
   "name": "python3"
  },
  "language_info": {
   "codemirror_mode": {
    "name": "ipython",
    "version": 3
   },
   "file_extension": ".py",
   "mimetype": "text/x-python",
   "name": "python",
   "nbconvert_exporter": "python",
   "pygments_lexer": "ipython3",
   "version": "3.8.8"
  }
 },
 "nbformat": 4,
 "nbformat_minor": 5
}
